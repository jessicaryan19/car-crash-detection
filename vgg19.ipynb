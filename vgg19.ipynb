{
 "cells": [
  {
   "cell_type": "code",
   "execution_count": 20,
   "metadata": {},
   "outputs": [],
   "source": [
    "import kagglehub\n",
    "import os\n",
    "import cv2\n",
    "import pandas as pd\n",
    "import matplotlib.pyplot as plt\n",
    "import numpy as np\n",
    "from sklearn.model_selection import train_test_split\n",
    "from sklearn.metrics import confusion_matrix, classification_report, ConfusionMatrixDisplay\n",
    "from tensorflow.keras.applications import VGG19\n",
    "from keras.layers import Dense, Flatten\n",
    "from keras.models import Model"
   ]
  },
  {
   "cell_type": "code",
   "execution_count": 21,
   "metadata": {},
   "outputs": [
    {
     "name": "stdout",
     "output_type": "stream",
     "text": [
      "/Users/jessicaryan/.cache/kagglehub/datasets/asefjamilajwad/car-crash-dataset-ccd/versions/2\n"
     ]
    }
   ],
   "source": [
    "PATH = kagglehub.dataset_download(\"asefjamilajwad/car-crash-dataset-ccd\")\n",
    "print(PATH)"
   ]
  },
  {
   "cell_type": "code",
   "execution_count": 22,
   "metadata": {},
   "outputs": [
    {
     "name": "stdout",
     "output_type": "stream",
     "text": [
      "/Users/jessicaryan/.cache/kagglehub/datasets/asefjamilajwad/car-crash-dataset-ccd/versions/2\n"
     ]
    }
   ],
   "source": [
    "PATH = \"/Users/jessicaryan/.cache/kagglehub/datasets/asefjamilajwad/car-crash-dataset-ccd/versions/2\"\n",
    "print(PATH)"
   ]
  },
  {
   "cell_type": "code",
   "execution_count": 23,
   "metadata": {},
   "outputs": [],
   "source": [
    "DATA_PATH = os.path.join(PATH, \"CrashBest\")\n",
    "TABLE_PATH = os.path.join(PATH, \"Crash_Table.csv\")\n",
    "\n",
    "TARGET_SIZE = (224, 224)"
   ]
  },
  {
   "cell_type": "code",
   "execution_count": 24,
   "metadata": {},
   "outputs": [
    {
     "data": {
      "text/html": [
       "<div>\n",
       "<style scoped>\n",
       "    .dataframe tbody tr th:only-of-type {\n",
       "        vertical-align: middle;\n",
       "    }\n",
       "\n",
       "    .dataframe tbody tr th {\n",
       "        vertical-align: top;\n",
       "    }\n",
       "\n",
       "    .dataframe thead th {\n",
       "        text-align: right;\n",
       "    }\n",
       "</style>\n",
       "<table border=\"1\" class=\"dataframe\">\n",
       "  <thead>\n",
       "    <tr style=\"text-align: right;\">\n",
       "      <th></th>\n",
       "      <th>vidname</th>\n",
       "      <th>frame_1</th>\n",
       "      <th>frame_2</th>\n",
       "      <th>frame_3</th>\n",
       "      <th>frame_4</th>\n",
       "      <th>frame_5</th>\n",
       "      <th>frame_6</th>\n",
       "      <th>frame_7</th>\n",
       "      <th>frame_8</th>\n",
       "      <th>frame_9</th>\n",
       "      <th>...</th>\n",
       "      <th>frame_46</th>\n",
       "      <th>frame_47</th>\n",
       "      <th>frame_48</th>\n",
       "      <th>frame_49</th>\n",
       "      <th>frame_50</th>\n",
       "      <th>startframe</th>\n",
       "      <th>youtubeID</th>\n",
       "      <th>timing</th>\n",
       "      <th>weather</th>\n",
       "      <th>egoinvolve</th>\n",
       "    </tr>\n",
       "  </thead>\n",
       "  <tbody>\n",
       "    <tr>\n",
       "      <th>0</th>\n",
       "      <td>1</td>\n",
       "      <td>0</td>\n",
       "      <td>0</td>\n",
       "      <td>0</td>\n",
       "      <td>0</td>\n",
       "      <td>0</td>\n",
       "      <td>0</td>\n",
       "      <td>0</td>\n",
       "      <td>0</td>\n",
       "      <td>0</td>\n",
       "      <td>...</td>\n",
       "      <td>1</td>\n",
       "      <td>1</td>\n",
       "      <td>1</td>\n",
       "      <td>1</td>\n",
       "      <td>1</td>\n",
       "      <td>285</td>\n",
       "      <td>0</td>\n",
       "      <td>Day</td>\n",
       "      <td>Normal</td>\n",
       "      <td>Yes</td>\n",
       "    </tr>\n",
       "    <tr>\n",
       "      <th>1</th>\n",
       "      <td>2</td>\n",
       "      <td>0</td>\n",
       "      <td>0</td>\n",
       "      <td>0</td>\n",
       "      <td>0</td>\n",
       "      <td>0</td>\n",
       "      <td>0</td>\n",
       "      <td>0</td>\n",
       "      <td>0</td>\n",
       "      <td>0</td>\n",
       "      <td>...</td>\n",
       "      <td>1</td>\n",
       "      <td>1</td>\n",
       "      <td>1</td>\n",
       "      <td>1</td>\n",
       "      <td>1</td>\n",
       "      <td>646</td>\n",
       "      <td>0</td>\n",
       "      <td>Day</td>\n",
       "      <td>Normal</td>\n",
       "      <td>Yes</td>\n",
       "    </tr>\n",
       "    <tr>\n",
       "      <th>2</th>\n",
       "      <td>3</td>\n",
       "      <td>0</td>\n",
       "      <td>0</td>\n",
       "      <td>0</td>\n",
       "      <td>0</td>\n",
       "      <td>0</td>\n",
       "      <td>0</td>\n",
       "      <td>0</td>\n",
       "      <td>0</td>\n",
       "      <td>0</td>\n",
       "      <td>...</td>\n",
       "      <td>1</td>\n",
       "      <td>1</td>\n",
       "      <td>1</td>\n",
       "      <td>1</td>\n",
       "      <td>1</td>\n",
       "      <td>972</td>\n",
       "      <td>0</td>\n",
       "      <td>Day</td>\n",
       "      <td>Normal</td>\n",
       "      <td>Yes</td>\n",
       "    </tr>\n",
       "    <tr>\n",
       "      <th>3</th>\n",
       "      <td>4</td>\n",
       "      <td>0</td>\n",
       "      <td>0</td>\n",
       "      <td>0</td>\n",
       "      <td>0</td>\n",
       "      <td>0</td>\n",
       "      <td>0</td>\n",
       "      <td>0</td>\n",
       "      <td>0</td>\n",
       "      <td>0</td>\n",
       "      <td>...</td>\n",
       "      <td>1</td>\n",
       "      <td>1</td>\n",
       "      <td>1</td>\n",
       "      <td>1</td>\n",
       "      <td>1</td>\n",
       "      <td>1257</td>\n",
       "      <td>0</td>\n",
       "      <td>Day</td>\n",
       "      <td>Normal</td>\n",
       "      <td>Yes</td>\n",
       "    </tr>\n",
       "    <tr>\n",
       "      <th>4</th>\n",
       "      <td>5</td>\n",
       "      <td>0</td>\n",
       "      <td>0</td>\n",
       "      <td>0</td>\n",
       "      <td>0</td>\n",
       "      <td>0</td>\n",
       "      <td>0</td>\n",
       "      <td>0</td>\n",
       "      <td>0</td>\n",
       "      <td>0</td>\n",
       "      <td>...</td>\n",
       "      <td>1</td>\n",
       "      <td>1</td>\n",
       "      <td>1</td>\n",
       "      <td>1</td>\n",
       "      <td>1</td>\n",
       "      <td>462</td>\n",
       "      <td>10</td>\n",
       "      <td>Day</td>\n",
       "      <td>Snowy</td>\n",
       "      <td>Yes</td>\n",
       "    </tr>\n",
       "  </tbody>\n",
       "</table>\n",
       "<p>5 rows × 56 columns</p>\n",
       "</div>"
      ],
      "text/plain": [
       "   vidname  frame_1  frame_2  frame_3  frame_4  frame_5  frame_6  frame_7  \\\n",
       "0        1        0        0        0        0        0        0        0   \n",
       "1        2        0        0        0        0        0        0        0   \n",
       "2        3        0        0        0        0        0        0        0   \n",
       "3        4        0        0        0        0        0        0        0   \n",
       "4        5        0        0        0        0        0        0        0   \n",
       "\n",
       "   frame_8  frame_9  ...  frame_46  frame_47  frame_48  frame_49  frame_50  \\\n",
       "0        0        0  ...         1         1         1         1         1   \n",
       "1        0        0  ...         1         1         1         1         1   \n",
       "2        0        0  ...         1         1         1         1         1   \n",
       "3        0        0  ...         1         1         1         1         1   \n",
       "4        0        0  ...         1         1         1         1         1   \n",
       "\n",
       "   startframe  youtubeID  timing  weather  egoinvolve  \n",
       "0         285          0     Day   Normal         Yes  \n",
       "1         646          0     Day   Normal         Yes  \n",
       "2         972          0     Day   Normal         Yes  \n",
       "3        1257          0     Day   Normal         Yes  \n",
       "4         462         10     Day    Snowy         Yes  \n",
       "\n",
       "[5 rows x 56 columns]"
      ]
     },
     "execution_count": 24,
     "metadata": {},
     "output_type": "execute_result"
    }
   ],
   "source": [
    "df = pd.read_csv(TABLE_PATH)\n",
    "df.head()"
   ]
  },
  {
   "cell_type": "code",
   "execution_count": 25,
   "metadata": {},
   "outputs": [
    {
     "data": {
      "text/html": [
       "<div>\n",
       "<style scoped>\n",
       "    .dataframe tbody tr th:only-of-type {\n",
       "        vertical-align: middle;\n",
       "    }\n",
       "\n",
       "    .dataframe tbody tr th {\n",
       "        vertical-align: top;\n",
       "    }\n",
       "\n",
       "    .dataframe thead th {\n",
       "        text-align: right;\n",
       "    }\n",
       "</style>\n",
       "<table border=\"1\" class=\"dataframe\">\n",
       "  <thead>\n",
       "    <tr style=\"text-align: right;\">\n",
       "      <th></th>\n",
       "      <th>vidname</th>\n",
       "      <th>frame_1</th>\n",
       "      <th>frame_2</th>\n",
       "      <th>frame_3</th>\n",
       "      <th>frame_4</th>\n",
       "      <th>frame_5</th>\n",
       "      <th>frame_6</th>\n",
       "      <th>frame_7</th>\n",
       "      <th>frame_8</th>\n",
       "      <th>frame_9</th>\n",
       "      <th>...</th>\n",
       "      <th>frame_46</th>\n",
       "      <th>frame_47</th>\n",
       "      <th>frame_48</th>\n",
       "      <th>frame_49</th>\n",
       "      <th>frame_50</th>\n",
       "      <th>timing_Day</th>\n",
       "      <th>timing_Night</th>\n",
       "      <th>weather_Normal</th>\n",
       "      <th>weather_Rainy</th>\n",
       "      <th>weather_Snowy</th>\n",
       "    </tr>\n",
       "  </thead>\n",
       "  <tbody>\n",
       "    <tr>\n",
       "      <th>0</th>\n",
       "      <td>1</td>\n",
       "      <td>0</td>\n",
       "      <td>0</td>\n",
       "      <td>0</td>\n",
       "      <td>0</td>\n",
       "      <td>0</td>\n",
       "      <td>0</td>\n",
       "      <td>0</td>\n",
       "      <td>0</td>\n",
       "      <td>0</td>\n",
       "      <td>...</td>\n",
       "      <td>1</td>\n",
       "      <td>1</td>\n",
       "      <td>1</td>\n",
       "      <td>1</td>\n",
       "      <td>1</td>\n",
       "      <td>1</td>\n",
       "      <td>0</td>\n",
       "      <td>1</td>\n",
       "      <td>0</td>\n",
       "      <td>0</td>\n",
       "    </tr>\n",
       "    <tr>\n",
       "      <th>1</th>\n",
       "      <td>2</td>\n",
       "      <td>0</td>\n",
       "      <td>0</td>\n",
       "      <td>0</td>\n",
       "      <td>0</td>\n",
       "      <td>0</td>\n",
       "      <td>0</td>\n",
       "      <td>0</td>\n",
       "      <td>0</td>\n",
       "      <td>0</td>\n",
       "      <td>...</td>\n",
       "      <td>1</td>\n",
       "      <td>1</td>\n",
       "      <td>1</td>\n",
       "      <td>1</td>\n",
       "      <td>1</td>\n",
       "      <td>1</td>\n",
       "      <td>0</td>\n",
       "      <td>1</td>\n",
       "      <td>0</td>\n",
       "      <td>0</td>\n",
       "    </tr>\n",
       "    <tr>\n",
       "      <th>2</th>\n",
       "      <td>3</td>\n",
       "      <td>0</td>\n",
       "      <td>0</td>\n",
       "      <td>0</td>\n",
       "      <td>0</td>\n",
       "      <td>0</td>\n",
       "      <td>0</td>\n",
       "      <td>0</td>\n",
       "      <td>0</td>\n",
       "      <td>0</td>\n",
       "      <td>...</td>\n",
       "      <td>1</td>\n",
       "      <td>1</td>\n",
       "      <td>1</td>\n",
       "      <td>1</td>\n",
       "      <td>1</td>\n",
       "      <td>1</td>\n",
       "      <td>0</td>\n",
       "      <td>1</td>\n",
       "      <td>0</td>\n",
       "      <td>0</td>\n",
       "    </tr>\n",
       "    <tr>\n",
       "      <th>3</th>\n",
       "      <td>4</td>\n",
       "      <td>0</td>\n",
       "      <td>0</td>\n",
       "      <td>0</td>\n",
       "      <td>0</td>\n",
       "      <td>0</td>\n",
       "      <td>0</td>\n",
       "      <td>0</td>\n",
       "      <td>0</td>\n",
       "      <td>0</td>\n",
       "      <td>...</td>\n",
       "      <td>1</td>\n",
       "      <td>1</td>\n",
       "      <td>1</td>\n",
       "      <td>1</td>\n",
       "      <td>1</td>\n",
       "      <td>1</td>\n",
       "      <td>0</td>\n",
       "      <td>1</td>\n",
       "      <td>0</td>\n",
       "      <td>0</td>\n",
       "    </tr>\n",
       "    <tr>\n",
       "      <th>4</th>\n",
       "      <td>5</td>\n",
       "      <td>0</td>\n",
       "      <td>0</td>\n",
       "      <td>0</td>\n",
       "      <td>0</td>\n",
       "      <td>0</td>\n",
       "      <td>0</td>\n",
       "      <td>0</td>\n",
       "      <td>0</td>\n",
       "      <td>0</td>\n",
       "      <td>...</td>\n",
       "      <td>1</td>\n",
       "      <td>1</td>\n",
       "      <td>1</td>\n",
       "      <td>1</td>\n",
       "      <td>1</td>\n",
       "      <td>1</td>\n",
       "      <td>0</td>\n",
       "      <td>0</td>\n",
       "      <td>0</td>\n",
       "      <td>1</td>\n",
       "    </tr>\n",
       "  </tbody>\n",
       "</table>\n",
       "<p>5 rows × 56 columns</p>\n",
       "</div>"
      ],
      "text/plain": [
       "   vidname  frame_1  frame_2  frame_3  frame_4  frame_5  frame_6  frame_7  \\\n",
       "0        1        0        0        0        0        0        0        0   \n",
       "1        2        0        0        0        0        0        0        0   \n",
       "2        3        0        0        0        0        0        0        0   \n",
       "3        4        0        0        0        0        0        0        0   \n",
       "4        5        0        0        0        0        0        0        0   \n",
       "\n",
       "   frame_8  frame_9  ...  frame_46  frame_47  frame_48  frame_49  frame_50  \\\n",
       "0        0        0  ...         1         1         1         1         1   \n",
       "1        0        0  ...         1         1         1         1         1   \n",
       "2        0        0  ...         1         1         1         1         1   \n",
       "3        0        0  ...         1         1         1         1         1   \n",
       "4        0        0  ...         1         1         1         1         1   \n",
       "\n",
       "   timing_Day  timing_Night  weather_Normal  weather_Rainy  weather_Snowy  \n",
       "0           1             0               1              0              0  \n",
       "1           1             0               1              0              0  \n",
       "2           1             0               1              0              0  \n",
       "3           1             0               1              0              0  \n",
       "4           1             0               0              0              1  \n",
       "\n",
       "[5 rows x 56 columns]"
      ]
     },
     "execution_count": 25,
     "metadata": {},
     "output_type": "execute_result"
    }
   ],
   "source": [
    "df = df.drop(['startframe', 'youtubeID', 'egoinvolve'], axis=1)\n",
    "df = pd.get_dummies(df, columns=['timing', 'weather'])\n",
    "df = df.astype(int)\n",
    "df.head()"
   ]
  },
  {
   "cell_type": "code",
   "execution_count": 26,
   "metadata": {},
   "outputs": [],
   "source": [
    "df_sampled = df.sample(100, random_state=40)"
   ]
  },
  {
   "cell_type": "code",
   "execution_count": 27,
   "metadata": {},
   "outputs": [],
   "source": [
    "def get_file_name(video_name, frame_name):\n",
    "  return f\"C_{video_name:06}_{frame_name:02}.jpg\"\n",
    "\n",
    "def get_video_frame_paths(video_name):\n",
    "  frame_paths = []\n",
    "  for i in range (1, 51):\n",
    "    frame_path = os.path.join(DATA_PATH, get_file_name(video_name, i))\n",
    "    frame_paths.append(frame_path)\n",
    "  return frame_paths"
   ]
  },
  {
   "cell_type": "code",
   "execution_count": 28,
   "metadata": {},
   "outputs": [
    {
     "name": "stdout",
     "output_type": "stream",
     "text": [
      "Length of video_names:  5000\n",
      "Length of image_paths:  5000\n",
      "Length of labels:  5000\n",
      "Length of timings:  5000\n"
     ]
    }
   ],
   "source": [
    "video_names = []\n",
    "raw_images =[]\n",
    "labels = []\n",
    "features = []\n",
    "\n",
    "for idx, row in df_sampled.iterrows():\n",
    "  frame_paths = get_video_frame_paths(row[\"vidname\"])\n",
    "  if all(os.path.exists(frame_path) for frame_path in frame_paths):\n",
    "    for frame_path in frame_paths:\n",
    "      image = cv2.imread(frame_path)\n",
    "      raw_images.append(image)\n",
    "      \n",
    "    for i in range(1, 51):\n",
    "      labels.append(row[f\"frame_{i}\"])\n",
    "      video_names.append(row[\"vidname\"])\n",
    "      # features.append((row[\"timing_Day\"],\trow[\"timing_Night\"],\trow[\"weather_Normal\"],\trow[\"weather_Rainy\"],\trow[\"weather_Snowy\"]))\n",
    "      feature = row[[\"timing_Day\", \"timing_Night\", \"weather_Normal\", \"weather_Rainy\", \"weather_Snowy\"]].values\n",
    "      features.append(feature)      \n",
    "\n",
    "print(\"Length of video_names: \", len(video_names))\n",
    "print(\"Length of image_paths: \", len(raw_images))\n",
    "print(\"Length of labels: \", len(labels))\n",
    "print(\"Length of timings: \", len(features))"
   ]
  },
  {
   "cell_type": "code",
   "execution_count": 29,
   "metadata": {},
   "outputs": [],
   "source": [
    "def preprocess_image(image):\n",
    "  image = cv2.resize(image, TARGET_SIZE)\n",
    "  lab = cv2.cvtColor(image, cv2.COLOR_BGR2LAB)\n",
    "  l, a, b = cv2.split(lab)\n",
    "  clahe = cv2.createCLAHE(clipLimit=3.0, tileGridSize=(8,8))\n",
    "  l_clahe = clahe.apply(l)\n",
    "\n",
    "  image_clahe = cv2.merge([l_clahe, a, b])\n",
    "  image_clahe = cv2.cvtColor(image_clahe, cv2.COLOR_LAB2BGR)\n",
    "  image_clahe = np.array(image).astype(\"float32\") / 255.0\n",
    "  return image_clahe\n",
    "\n",
    "def preprocess_image_grayscale (image):\n",
    "  image = cv2.resize(image, TARGET_SIZE)\n",
    "  gray = cv2.cvtColor(image, cv2.COLOR_BGR2GRAY)\n",
    "  clahe = cv2.createCLAHE(clipLimit=3.0, tileGridSize=(8,8))\n",
    "  gray_clahe = clahe.apply(gray)\n",
    "  image_clahe = np.array(gray_clahe).astype(\"float32\") / 255.0\n",
    "  return image_clahe"
   ]
  },
  {
   "cell_type": "code",
   "execution_count": 30,
   "metadata": {},
   "outputs": [],
   "source": [
    "preprocessed_images = []\n",
    "\n",
    "for image in raw_images:\n",
    "  image = preprocess_image(image)\n",
    "  preprocessed_images.append(image)\n",
    "\n",
    "# flattened_images = [img.flatten() for img in preprocessed_images]\n",
    "# combined_data = np.concatenate((np.array(preprocessed_images), np.array(features)), axis=1)"
   ]
  },
  {
   "cell_type": "code",
   "execution_count": 31,
   "metadata": {},
   "outputs": [],
   "source": [
    "x_train, x_temp, y_train, y_temp = train_test_split(preprocessed_images, labels, test_size=0.2, random_state=40)\n",
    "x_test, x_val, y_test, y_val = train_test_split(x_temp, y_temp, test_size=0.5, random_state=40)"
   ]
  },
  {
   "cell_type": "code",
   "execution_count": 32,
   "metadata": {},
   "outputs": [
    {
     "name": "stdout",
     "output_type": "stream",
     "text": [
      "Length of x_train:  4000\n",
      "Length of x_val:  500\n",
      "Length of x_test:  500\n",
      "\n",
      "Length of y_train:  4000\n",
      "Length of y_val:  500\n",
      "Length of y_test:  500\n"
     ]
    }
   ],
   "source": [
    "print(\"Length of x_train: \", len(x_train))\n",
    "print(\"Length of x_val: \", len(x_val))\n",
    "print(\"Length of x_test: \", len(x_test))\n",
    "print()\n",
    "print(\"Length of y_train: \", len(y_train))\n",
    "print(\"Length of y_val: \", len(y_val))\n",
    "print(\"Length of y_test: \", len(y_test))"
   ]
  },
  {
   "cell_type": "code",
   "execution_count": 33,
   "metadata": {},
   "outputs": [],
   "source": [
    "model = VGG19(include_top=False, weights=\"imagenet\", input_shape=(224, 224, 3))\n",
    "for layer in model.layers:\n",
    "  layer.trainable = False"
   ]
  },
  {
   "cell_type": "code",
   "execution_count": 34,
   "metadata": {},
   "outputs": [
    {
     "name": "stdout",
     "output_type": "stream",
     "text": [
      "Model: \"model_1\"\n",
      "_________________________________________________________________\n",
      " Layer (type)                Output Shape              Param #   \n",
      "=================================================================\n",
      " input_2 (InputLayer)        [(None, 224, 224, 3)]     0         \n",
      "                                                                 \n",
      " block1_conv1 (Conv2D)       (None, 224, 224, 64)      1792      \n",
      "                                                                 \n",
      " block1_conv2 (Conv2D)       (None, 224, 224, 64)      36928     \n",
      "                                                                 \n",
      " block1_pool (MaxPooling2D)  (None, 112, 112, 64)      0         \n",
      "                                                                 \n",
      " block2_conv1 (Conv2D)       (None, 112, 112, 128)     73856     \n",
      "                                                                 \n",
      " block2_conv2 (Conv2D)       (None, 112, 112, 128)     147584    \n",
      "                                                                 \n",
      " block2_pool (MaxPooling2D)  (None, 56, 56, 128)       0         \n",
      "                                                                 \n",
      " block3_conv1 (Conv2D)       (None, 56, 56, 256)       295168    \n",
      "                                                                 \n",
      " block3_conv2 (Conv2D)       (None, 56, 56, 256)       590080    \n",
      "                                                                 \n",
      " block3_conv3 (Conv2D)       (None, 56, 56, 256)       590080    \n",
      "                                                                 \n",
      " block3_conv4 (Conv2D)       (None, 56, 56, 256)       590080    \n",
      "                                                                 \n",
      " block3_pool (MaxPooling2D)  (None, 28, 28, 256)       0         \n",
      "                                                                 \n",
      " block4_conv1 (Conv2D)       (None, 28, 28, 512)       1180160   \n",
      "                                                                 \n",
      " block4_conv2 (Conv2D)       (None, 28, 28, 512)       2359808   \n",
      "                                                                 \n",
      " block4_conv3 (Conv2D)       (None, 28, 28, 512)       2359808   \n",
      "                                                                 \n",
      " block4_conv4 (Conv2D)       (None, 28, 28, 512)       2359808   \n",
      "                                                                 \n",
      " block4_pool (MaxPooling2D)  (None, 14, 14, 512)       0         \n",
      "                                                                 \n",
      " block5_conv1 (Conv2D)       (None, 14, 14, 512)       2359808   \n",
      "                                                                 \n",
      " block5_conv2 (Conv2D)       (None, 14, 14, 512)       2359808   \n",
      "                                                                 \n",
      " block5_conv3 (Conv2D)       (None, 14, 14, 512)       2359808   \n",
      "                                                                 \n",
      " block5_conv4 (Conv2D)       (None, 14, 14, 512)       2359808   \n",
      "                                                                 \n",
      " block5_pool (MaxPooling2D)  (None, 7, 7, 512)         0         \n",
      "                                                                 \n",
      " flatten_1 (Flatten)         (None, 25088)             0         \n",
      "                                                                 \n",
      " dense_2 (Dense)             (None, 50)                1254450   \n",
      "                                                                 \n",
      " dense_3 (Dense)             (None, 1)                 51        \n",
      "                                                                 \n",
      "=================================================================\n",
      "Total params: 21278885 (81.17 MB)\n",
      "Trainable params: 1254501 (4.79 MB)\n",
      "Non-trainable params: 20024384 (76.39 MB)\n",
      "_________________________________________________________________\n"
     ]
    }
   ],
   "source": [
    "x = model.output\n",
    "x = Flatten()(x)\n",
    "x = Dense(50, activation='relu')(x)\n",
    "output_layer = Dense(1, activation='sigmoid')(x)\n",
    "\n",
    "model = Model(inputs=model.input, outputs=output_layer)\n",
    "model.summary()"
   ]
  },
  {
   "cell_type": "code",
   "execution_count": 35,
   "metadata": {},
   "outputs": [],
   "source": [
    "model.compile(optimizer='adam', loss='binary_crossentropy', metrics=['accuracy'])"
   ]
  },
  {
   "cell_type": "code",
   "execution_count": 36,
   "metadata": {},
   "outputs": [],
   "source": [
    "EPOCHS = 10\n",
    "BATCH_SIZE = 32"
   ]
  },
  {
   "cell_type": "code",
   "execution_count": 38,
   "metadata": {},
   "outputs": [
    {
     "name": "stdout",
     "output_type": "stream",
     "text": [
      "Epoch 1/10\n",
      "125/125 [==============================] - 485s 4s/step - loss: 0.6101 - accuracy: 0.7265 - val_loss: 0.4789 - val_accuracy: 0.7320\n",
      "Epoch 2/10\n",
      "125/125 [==============================] - 532s 4s/step - loss: 0.4257 - accuracy: 0.7915 - val_loss: 0.4019 - val_accuracy: 0.8440\n",
      "Epoch 3/10\n",
      "125/125 [==============================] - 559s 4s/step - loss: 0.3452 - accuracy: 0.8505 - val_loss: 0.3356 - val_accuracy: 0.8860\n",
      "Epoch 4/10\n",
      "125/125 [==============================] - 580s 5s/step - loss: 0.2922 - accuracy: 0.8963 - val_loss: 0.3023 - val_accuracy: 0.8500\n",
      "Epoch 5/10\n",
      "125/125 [==============================] - 587s 5s/step - loss: 0.2629 - accuracy: 0.9143 - val_loss: 0.2599 - val_accuracy: 0.9320\n",
      "Epoch 6/10\n",
      "125/125 [==============================] - 585s 5s/step - loss: 0.2290 - accuracy: 0.9370 - val_loss: 0.2350 - val_accuracy: 0.9160\n",
      "Epoch 7/10\n",
      "125/125 [==============================] - 1297s 10s/step - loss: 0.1965 - accuracy: 0.9575 - val_loss: 0.2153 - val_accuracy: 0.9500\n",
      "Epoch 8/10\n",
      "125/125 [==============================] - 590s 5s/step - loss: 0.1811 - accuracy: 0.9647 - val_loss: 0.2115 - val_accuracy: 0.9280\n",
      "Epoch 9/10\n",
      "125/125 [==============================] - 625s 5s/step - loss: 0.1629 - accuracy: 0.9700 - val_loss: 0.2051 - val_accuracy: 0.9240\n",
      "Epoch 10/10\n",
      "125/125 [==============================] - 798s 6s/step - loss: 0.1463 - accuracy: 0.9758 - val_loss: 0.1817 - val_accuracy: 0.9480\n"
     ]
    }
   ],
   "source": [
    "history = model.fit(np.array(x_train), np.array(y_train), epochs=EPOCHS, batch_size=BATCH_SIZE, validation_data=(np.array(x_val), np.array(y_val)))"
   ]
  },
  {
   "cell_type": "code",
   "execution_count": 39,
   "metadata": {},
   "outputs": [
    {
     "data": {
      "image/png": "[encoded data removed]",
      "text/plain": [
       "<Figure size 1200x600 with 2 Axes>"
      ]
     },
     "metadata": {},
     "output_type": "display_data"
    }
   ],
   "source": [
    "plt.figure(figsize=(12, 6))\n",
    "plt.subplot(1, 2, 1)\n",
    "plt.plot(history.history['accuracy'], label='accuracy')\n",
    "plt.plot(history.history['val_accuracy'], label = 'val_accuracy')\n",
    "plt.xlabel('Epoch')\n",
    "plt.ylabel('Accuracy')\n",
    "plt.title('Training and Validation Accuracy')\n",
    "plt.legend(loc='lower right')\n",
    "\n",
    "plt.subplot(1, 2, 2)\n",
    "plt.plot(history.history['loss'], label='loss')\n",
    "plt.plot(history.history['val_loss'], label = 'val_loss')\n",
    "plt.xlabel('Epoch')\n",
    "plt.ylabel('Loss')\n",
    "plt.title('Training and Validation Loss')\n",
    "plt.legend(loc='upper right')\n",
    "plt.show()"
   ]
  },
  {
   "cell_type": "code",
   "execution_count": 40,
   "metadata": {},
   "outputs": [
    {
     "name": "stdout",
     "output_type": "stream",
     "text": [
      "16/16 - 48s - loss: 0.2057 - accuracy: 0.9320 - 48s/epoch - 3s/step\n",
      "Test accuracy: 0.9319999814033508\n",
      "Test loss: 0.20569080114364624\n"
     ]
    }
   ],
   "source": [
    "test_loss, test_acc = model.evaluate(np.array(x_test), np.array(y_test), verbose=2)\n",
    "\n",
    "print('Test accuracy:', test_acc)\n",
    "print('Test loss:', test_loss)"
   ]
  },
  {
   "cell_type": "code",
   "execution_count": 41,
   "metadata": {},
   "outputs": [
    {
     "name": "stdout",
     "output_type": "stream",
     "text": [
      "16/16 [==============================] - 51s 3s/step\n",
      "True Labels vs. Predicted Labels:\n",
      "True Label: 0, Predicted Label: 0\n",
      "True Label: 0, Predicted Label: 1\n",
      "True Label: 1, Predicted Label: 1\n",
      "True Label: 0, Predicted Label: 0\n",
      "True Label: 0, Predicted Label: 0\n",
      "True Label: 0, Predicted Label: 0\n",
      "True Label: 0, Predicted Label: 0\n",
      "True Label: 0, Predicted Label: 0\n",
      "True Label: 0, Predicted Label: 0\n",
      "True Label: 1, Predicted Label: 0\n"
     ]
    }
   ],
   "source": [
    "y_pred = model.predict(np.array(x_test))\n",
    "y_pred = np.round(y_pred)\n",
    "\n",
    "print(\"True Labels vs. Predicted Labels:\")\n",
    "for i in range(10):\n",
    "  print(f\"True Label: {int(y_test[i])}, Predicted Label: {int(y_pred[i])}\")"
   ]
  },
  {
   "cell_type": "code",
   "execution_count": 42,
   "metadata": {},
   "outputs": [
    {
     "name": "stdout",
     "output_type": "stream",
     "text": [
      "              precision    recall  f1-score   support\n",
      "\n",
      "           0       0.93      0.98      0.95       358\n",
      "           1       0.94      0.81      0.87       142\n",
      "\n",
      "    accuracy                           0.93       500\n",
      "   macro avg       0.94      0.90      0.91       500\n",
      "weighted avg       0.93      0.93      0.93       500\n",
      "\n"
     ]
    }
   ],
   "source": [
    "print(classification_report(y_test, y_pred))"
   ]
  },
  {
   "cell_type": "code",
   "execution_count": 43,
   "metadata": {},
   "outputs": [
    {
     "data": {
      "text/plain": [
       "<Figure size 800x600 with 0 Axes>"
      ]
     },
     "metadata": {},
     "output_type": "display_data"
    },
    {
     "data": {
      "image/png": "[encoded data removed]",
      "text/plain": [
       "<Figure size 640x480 with 2 Axes>"
      ]
     },
     "metadata": {},
     "output_type": "display_data"
    }
   ],
   "source": [
    "cm = confusion_matrix(y_test, y_pred)\n",
    "\n",
    "plt.figure(figsize=(8, 6))\n",
    "disp = ConfusionMatrixDisplay(confusion_matrix=cm, display_labels=[0, 1])\n",
    "disp.plot(cmap=plt.cm.Blues)\n",
    "plt.title(\"Confusion Matrix\")\n",
    "plt.show()"
   ]
  },
  {
   "cell_type": "code",
   "execution_count": 46,
   "metadata": {},
   "outputs": [],
   "source": [
    "model.save('vgg_19.h5')"
   ]
  }
 ],
 "metadata": {
  "kernelspec": {
   "display_name": ".venv",
   "language": "python",
   "name": "python3"
  },
  "language_info": {
   "codemirror_mode": {
    "name": "ipython",
    "version": 3
   },
   "file_extension": ".py",
   "mimetype": "text/x-python",
   "name": "python",
   "nbconvert_exporter": "python",
   "pygments_lexer": "ipython3",
   "version": "3.10.9"
  },
  "orig_nbformat": 4
 },
 "nbformat": 4,
 "nbformat_minor": 2
}
