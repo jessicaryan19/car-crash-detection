{
 "cells": [
  {
   "attachments": {},
   "cell_type": "markdown",
   "metadata": {},
   "source": [
    "### Import Packages and Download Dataset"
   ]
  },
  {
   "cell_type": "code",
   "execution_count": 13,
   "metadata": {},
   "outputs": [],
   "source": [
    "import kagglehub\n",
    "import os\n",
    "import cv2\n",
    "import pandas as pd"
   ]
  },
  {
   "cell_type": "code",
   "execution_count": 14,
   "metadata": {},
   "outputs": [
    {
     "name": "stdout",
     "output_type": "stream",
     "text": [
      "C:\\Users\\jessi\\.cache\\kagglehub\\datasets\\asefjamilajwad\\car-crash-dataset-ccd\\versions\\2\n"
     ]
    }
   ],
   "source": [
    "PATH = kagglehub.dataset_download(\"asefjamilajwad/car-crash-dataset-ccd\")\n",
    "print(PATH)"
   ]
  },
  {
   "attachments": {},
   "cell_type": "markdown",
   "metadata": {},
   "source": [
    "### Load Data and Preprocessing"
   ]
  },
  {
   "cell_type": "code",
   "execution_count": 15,
   "metadata": {},
   "outputs": [],
   "source": [
    "DATA_PATH = os.path.join(PATH, \"CrashBest\")\n",
    "TABLE_PATH = os.path.join(PATH, \"Crash_Table.csv\")"
   ]
  },
  {
   "cell_type": "code",
   "execution_count": 16,
   "metadata": {},
   "outputs": [
    {
     "data": {
      "text/html": [
       "<div>\n",
       "<style scoped>\n",
       "    .dataframe tbody tr th:only-of-type {\n",
       "        vertical-align: middle;\n",
       "    }\n",
       "\n",
       "    .dataframe tbody tr th {\n",
       "        vertical-align: top;\n",
       "    }\n",
       "\n",
       "    .dataframe thead th {\n",
       "        text-align: right;\n",
       "    }\n",
       "</style>\n",
       "<table border=\"1\" class=\"dataframe\">\n",
       "  <thead>\n",
       "    <tr style=\"text-align: right;\">\n",
       "      <th></th>\n",
       "      <th>vidname</th>\n",
       "      <th>frame_1</th>\n",
       "      <th>frame_2</th>\n",
       "      <th>frame_3</th>\n",
       "      <th>frame_4</th>\n",
       "      <th>frame_5</th>\n",
       "      <th>frame_6</th>\n",
       "      <th>frame_7</th>\n",
       "      <th>frame_8</th>\n",
       "      <th>frame_9</th>\n",
       "      <th>...</th>\n",
       "      <th>frame_46</th>\n",
       "      <th>frame_47</th>\n",
       "      <th>frame_48</th>\n",
       "      <th>frame_49</th>\n",
       "      <th>frame_50</th>\n",
       "      <th>startframe</th>\n",
       "      <th>youtubeID</th>\n",
       "      <th>timing</th>\n",
       "      <th>weather</th>\n",
       "      <th>egoinvolve</th>\n",
       "    </tr>\n",
       "  </thead>\n",
       "  <tbody>\n",
       "    <tr>\n",
       "      <th>0</th>\n",
       "      <td>1</td>\n",
       "      <td>0</td>\n",
       "      <td>0</td>\n",
       "      <td>0</td>\n",
       "      <td>0</td>\n",
       "      <td>0</td>\n",
       "      <td>0</td>\n",
       "      <td>0</td>\n",
       "      <td>0</td>\n",
       "      <td>0</td>\n",
       "      <td>...</td>\n",
       "      <td>1</td>\n",
       "      <td>1</td>\n",
       "      <td>1</td>\n",
       "      <td>1</td>\n",
       "      <td>1</td>\n",
       "      <td>285</td>\n",
       "      <td>0</td>\n",
       "      <td>Day</td>\n",
       "      <td>Normal</td>\n",
       "      <td>Yes</td>\n",
       "    </tr>\n",
       "    <tr>\n",
       "      <th>1</th>\n",
       "      <td>2</td>\n",
       "      <td>0</td>\n",
       "      <td>0</td>\n",
       "      <td>0</td>\n",
       "      <td>0</td>\n",
       "      <td>0</td>\n",
       "      <td>0</td>\n",
       "      <td>0</td>\n",
       "      <td>0</td>\n",
       "      <td>0</td>\n",
       "      <td>...</td>\n",
       "      <td>1</td>\n",
       "      <td>1</td>\n",
       "      <td>1</td>\n",
       "      <td>1</td>\n",
       "      <td>1</td>\n",
       "      <td>646</td>\n",
       "      <td>0</td>\n",
       "      <td>Day</td>\n",
       "      <td>Normal</td>\n",
       "      <td>Yes</td>\n",
       "    </tr>\n",
       "    <tr>\n",
       "      <th>2</th>\n",
       "      <td>3</td>\n",
       "      <td>0</td>\n",
       "      <td>0</td>\n",
       "      <td>0</td>\n",
       "      <td>0</td>\n",
       "      <td>0</td>\n",
       "      <td>0</td>\n",
       "      <td>0</td>\n",
       "      <td>0</td>\n",
       "      <td>0</td>\n",
       "      <td>...</td>\n",
       "      <td>1</td>\n",
       "      <td>1</td>\n",
       "      <td>1</td>\n",
       "      <td>1</td>\n",
       "      <td>1</td>\n",
       "      <td>972</td>\n",
       "      <td>0</td>\n",
       "      <td>Day</td>\n",
       "      <td>Normal</td>\n",
       "      <td>Yes</td>\n",
       "    </tr>\n",
       "    <tr>\n",
       "      <th>3</th>\n",
       "      <td>4</td>\n",
       "      <td>0</td>\n",
       "      <td>0</td>\n",
       "      <td>0</td>\n",
       "      <td>0</td>\n",
       "      <td>0</td>\n",
       "      <td>0</td>\n",
       "      <td>0</td>\n",
       "      <td>0</td>\n",
       "      <td>0</td>\n",
       "      <td>...</td>\n",
       "      <td>1</td>\n",
       "      <td>1</td>\n",
       "      <td>1</td>\n",
       "      <td>1</td>\n",
       "      <td>1</td>\n",
       "      <td>1257</td>\n",
       "      <td>0</td>\n",
       "      <td>Day</td>\n",
       "      <td>Normal</td>\n",
       "      <td>Yes</td>\n",
       "    </tr>\n",
       "    <tr>\n",
       "      <th>4</th>\n",
       "      <td>5</td>\n",
       "      <td>0</td>\n",
       "      <td>0</td>\n",
       "      <td>0</td>\n",
       "      <td>0</td>\n",
       "      <td>0</td>\n",
       "      <td>0</td>\n",
       "      <td>0</td>\n",
       "      <td>0</td>\n",
       "      <td>0</td>\n",
       "      <td>...</td>\n",
       "      <td>1</td>\n",
       "      <td>1</td>\n",
       "      <td>1</td>\n",
       "      <td>1</td>\n",
       "      <td>1</td>\n",
       "      <td>462</td>\n",
       "      <td>10</td>\n",
       "      <td>Day</td>\n",
       "      <td>Snowy</td>\n",
       "      <td>Yes</td>\n",
       "    </tr>\n",
       "  </tbody>\n",
       "</table>\n",
       "<p>5 rows × 56 columns</p>\n",
       "</div>"
      ],
      "text/plain": [
       "   vidname  frame_1  frame_2  frame_3  frame_4  frame_5  frame_6  frame_7  \\\n",
       "0        1        0        0        0        0        0        0        0   \n",
       "1        2        0        0        0        0        0        0        0   \n",
       "2        3        0        0        0        0        0        0        0   \n",
       "3        4        0        0        0        0        0        0        0   \n",
       "4        5        0        0        0        0        0        0        0   \n",
       "\n",
       "   frame_8  frame_9  ...  frame_46  frame_47  frame_48  frame_49  frame_50  \\\n",
       "0        0        0  ...         1         1         1         1         1   \n",
       "1        0        0  ...         1         1         1         1         1   \n",
       "2        0        0  ...         1         1         1         1         1   \n",
       "3        0        0  ...         1         1         1         1         1   \n",
       "4        0        0  ...         1         1         1         1         1   \n",
       "\n",
       "   startframe  youtubeID  timing  weather  egoinvolve  \n",
       "0         285          0     Day   Normal         Yes  \n",
       "1         646          0     Day   Normal         Yes  \n",
       "2         972          0     Day   Normal         Yes  \n",
       "3        1257          0     Day   Normal         Yes  \n",
       "4         462         10     Day    Snowy         Yes  \n",
       "\n",
       "[5 rows x 56 columns]"
      ]
     },
     "execution_count": 16,
     "metadata": {},
     "output_type": "execute_result"
    }
   ],
   "source": [
    "df = pd.read_csv(TABLE_PATH)\n",
    "df.head()"
   ]
  },
  {
   "cell_type": "code",
   "execution_count": 26,
   "metadata": {},
   "outputs": [],
   "source": [
    "def get_video_frame_paths(video_name):\n",
    "  frame_paths = []\n",
    "  for i in range (1, 51):\n",
    "    frame_path = f\"C_{video_name:06}_{i:02}.jpg\"\n",
    "    frame_path = os.path.join(DATA_PATH, frame_path)\n",
    "    frame_paths.append(frame_path)\n",
    "  return frame_paths"
   ]
  },
  {
   "cell_type": "code",
   "execution_count": 28,
   "metadata": {},
   "outputs": [
    {
     "name": "stdout",
     "output_type": "stream",
     "text": [
      "Length of image_paths:  75000\n",
      "Length of labels:  75000\n"
     ]
    }
   ],
   "source": [
    "image_paths =[]\n",
    "labels = []\n",
    "\n",
    "for idx, row in df.iterrows():\n",
    "  frame_paths = get_video_frame_paths(row[\"vidname\"])\n",
    "  if all(os.path.exists(frame_path) for frame_path in frame_paths):\n",
    "    image_paths.extend(frame_paths)\n",
    "    labels.extend(row[f\"frame_{i}\"] for i in range(1, 51))\n",
    "\n",
    "print(\"Length of image_paths: \", len(image_paths))\n",
    "print(\"Length of labels: \", len(labels))"
   ]
  },
  {
   "cell_type": "code",
   "execution_count": null,
   "metadata": {},
   "outputs": [],
   "source": []
  }
 ],
 "metadata": {
  "kernelspec": {
   "display_name": "Python 3",
   "language": "python",
   "name": "python3"
  },
  "language_info": {
   "codemirror_mode": {
    "name": "ipython",
    "version": 3
   },
   "file_extension": ".py",
   "mimetype": "text/x-python",
   "name": "python",
   "nbconvert_exporter": "python",
   "pygments_lexer": "ipython3",
   "version": "3.12.2"
  },
  "orig_nbformat": 4
 },
 "nbformat": 4,
 "nbformat_minor": 2
}
